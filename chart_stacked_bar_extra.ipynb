{
 "cells": [
  {
   "cell_type": "code",
   "execution_count": null,
   "metadata": {
    "collapsed": true
   },
   "outputs": [],
   "source": [
    "import pandas as pd\n",
    "import plotly.express as px\n",
    "import plotly.graph_objects as go\n",
    "import plotly.colors as cl\n",
    "import kaleido\n",
    "\n",
    "# import excel file\n",
    "df = pd.read_excel('HouseData-All.xlsx', sheet_name='Combined')\n",
    "df['Floor_Type'] = df['Floor_Type'].str.capitalize()\n",
    "df.head()\n",
    "\n"
   ]
  },
  {
   "cell_type": "code",
   "execution_count": null,
   "outputs": [],
   "source": [
    "# Fill in built year with the first value by each ZPID\n",
    "df['Built Year'] = df.groupby('ZPID')['Built Year'].ffill()\n",
    "df['Built Year'] = df['Built Year'].astype(int)\n",
    "\n",
    "# '*' values in the 'Floor_Type' column are replaced with blank\n",
    "df['Floor_Type'] = df['Floor_Type'].replace('*', None)\n",
    "\n",
    "df['Count'] = 1\n",
    "\n",
    "# drop rows with empty values in column 'Floor_Type'\n",
    "df = df.dropna(subset=['Floor_Type'])\n",
    "\n",
    "# change values that start with 'Bed' to 'bedroom' using regex\n",
    "df['Room'] = df['Room'].replace(r'^Bed.*', 'Bedroom', regex=True)\n"
   ],
   "metadata": {
    "collapsed": false
   }
  },
  {
   "cell_type": "code",
   "execution_count": null,
   "outputs": [],
   "source": [
    "import numpy as np\n",
    "# new column in df for built year >= 2020\n",
    "df['New_House'] = np.where(df['Built Year'] >= 2020, 'New(>=2020)', 'Old(<2020)')\n",
    "df.head()\n",
    "\n"
   ],
   "metadata": {
    "collapsed": false
   }
  },
  {
   "cell_type": "code",
   "execution_count": null,
   "outputs": [],
   "source": [
    "df_comparison = df.groupby(['Room','Home_Type','Home_Price','New_House', 'Floor_Type'])['Count'].sum().reset_index()\n",
    "\n",
    "# pivot the table to have the floor type as columns\n",
    "df_comparison = df_comparison.pivot_table(index=['Room','Home_Type','Home_Price','New_House'], columns='Floor_Type', values='Count').reset_index()\n",
    "df_comparison = df_comparison.fillna(0)\n",
    "df_comparison"
   ],
   "metadata": {
    "collapsed": false
   }
  },
  {
   "cell_type": "code",
   "execution_count": null,
   "outputs": [],
   "source": [
    "df_comparison_bedroom = df_comparison[df_comparison['Room'] == 'Bedroom']\n",
    "\n",
    "# Group by New_House\n",
    "df_comparison_bedroom_newhouse = df_comparison_bedroom.groupby('New_House')[['Bare','Carpet','Rug']].sum().reset_index()\n",
    "df_comparison_bedroom_newhouse['Bare%'] = (df_comparison_bedroom_newhouse['Bare'] / (df_comparison_bedroom_newhouse['Bare'] + df_comparison_bedroom_newhouse['Carpet'] + df_comparison_bedroom_newhouse['Rug']) * 100).round(1)\n",
    "df_comparison_bedroom_newhouse['Carpet%'] = (df_comparison_bedroom_newhouse['Carpet'] / (df_comparison_bedroom_newhouse['Bare'] + df_comparison_bedroom_newhouse['Carpet'] + df_comparison_bedroom_newhouse['Rug']) * 100).round(1)\n",
    "df_comparison_bedroom_newhouse['Rug%'] = (df_comparison_bedroom_newhouse['Rug'] / (df_comparison_bedroom_newhouse['Bare'] + df_comparison_bedroom_newhouse['Carpet'] + df_comparison_bedroom_newhouse['Rug']) * 100).round(1)\n",
    "df_comparison_bedroom_newhouse.head()\n",
    "df_comparison_bedroom_newhouse\n"
   ],
   "metadata": {
    "collapsed": false
   }
  },
  {
   "cell_type": "code",
   "execution_count": null,
   "outputs": [],
   "source": [
    "fig_new_vs_old= px.bar(df_comparison_bedroom_newhouse,\n",
    "             x='New_House',\n",
    "             y=['Bare%','Rug%','Carpet%'],\n",
    "             barmode='stack',\n",
    "             color_discrete_sequence=px.colors.qualitative.Pastel,\n",
    "             title='Bedroom Floor Type Comparison between New and Old Houses',\n",
    "             labels={'value':'Percentage of Floor Type', 'variable':'Floor Type', 'x':'Region'},\n",
    "             text_auto='auto')\n",
    "\n",
    "fig_new_vs_old.update_layout(legend_traceorder='reversed', title_x=0.5)\n",
    "fig_new_vs_old.show()\n",
    "fig_new_vs_old.write_image('New vs Old Houses.png')"
   ],
   "metadata": {
    "collapsed": false
   }
  },
  {
   "cell_type": "code",
   "execution_count": null,
   "outputs": [],
   "source": [
    "# Group by Home_Type\n",
    "# if Home_Type is 'Apartment', replace it with 'Condo'\n",
    "df_comparison_bedroom['Home_Type'] = df_comparison_bedroom['Home_Type'].replace('APARTMENT', 'CONDO')\n",
    "\n",
    "df_comparison_bedroom_hometype = df_comparison_bedroom.groupby('Home_Type')[['Bare','Carpet','Rug']].sum().reset_index()\n",
    "df_comparison_bedroom_hometype['Bare%'] = (df_comparison_bedroom_hometype['Bare'] / (df_comparison_bedroom_hometype['Bare'] + df_comparison_bedroom_hometype['Carpet'] + df_comparison_bedroom_hometype['Rug']) * 100).round(1)\n",
    "df_comparison_bedroom_hometype['Carpet%'] = (df_comparison_bedroom_hometype['Carpet'] / (df_comparison_bedroom_hometype['Bare'] + df_comparison_bedroom_hometype['Carpet'] + df_comparison_bedroom_hometype['Rug']) * 100).round(1)\n",
    "df_comparison_bedroom_hometype['Rug%'] = (df_comparison_bedroom_hometype['Rug'] / (df_comparison_bedroom_hometype['Bare'] + df_comparison_bedroom_hometype['Carpet'] + df_comparison_bedroom_hometype['Rug']) * 100).round(1)\n",
    "df_comparison_bedroom_hometype.head()"
   ],
   "metadata": {
    "collapsed": false
   }
  },
  {
   "cell_type": "code",
   "execution_count": null,
   "outputs": [],
   "source": [
    "fig_hometype= px.bar(df_comparison_bedroom_hometype,\n",
    "             x='Home_Type',\n",
    "             y=['Bare%','Rug%','Carpet%'],\n",
    "             barmode='stack',\n",
    "             color_discrete_sequence=px.colors.qualitative.Pastel,\n",
    "             title='Bedroom Floor Type Comparison between Home Types',\n",
    "             labels={'value':'Percentage of Floor Type', 'variable':'Floor Type', 'x':'Region'},\n",
    "             text_auto='auto')\n",
    "\n",
    "fig_hometype.update_layout(legend_traceorder='reversed', title_x=0.5)\n",
    "fig_hometype.show()\n",
    "fig_hometype.write_image('hometypes comparison.png')"
   ],
   "metadata": {
    "collapsed": false
   }
  }
 ],
 "metadata": {
  "kernelspec": {
   "display_name": "Python 3",
   "language": "python",
   "name": "python3"
  },
  "language_info": {
   "codemirror_mode": {
    "name": "ipython",
    "version": 2
   },
   "file_extension": ".py",
   "mimetype": "text/x-python",
   "name": "python",
   "nbconvert_exporter": "python",
   "pygments_lexer": "ipython2",
   "version": "2.7.6"
  }
 },
 "nbformat": 4,
 "nbformat_minor": 0
}
