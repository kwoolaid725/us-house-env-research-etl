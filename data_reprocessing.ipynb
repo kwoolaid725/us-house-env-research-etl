{
 "cells": [
  {
   "cell_type": "code",
   "execution_count": null,
   "metadata": {
    "collapsed": true
   },
   "outputs": [],
   "source": [
    "# open excel file\n",
    "import openpyxl\n",
    "import pandas as pd\n",
    "# wb = openpyxl.load_workbook('NorthEast-Raw.xlsx')\n",
    "\n",
    "df = pd.read_excel('NorthEast-Raw.xlsx')\n",
    "df.head()"
   ]
  },
  {
   "cell_type": "code",
   "execution_count": null,
   "outputs": [],
   "source": [
    "# create raws according to the value in column beds\n",
    "df['Beds'].value_counts()\n",
    "\n",
    "columns = ['Built Year', 'Room', 'Floor_Type']\n",
    "\n",
    "#insert new columns in columns to the df\n",
    "for i in columns:\n",
    "    df[i] = ''\n",
    "\n",
    "\n",
    "df"
   ],
   "metadata": {
    "collapsed": false
   }
  },
  {
   "cell_type": "code",
   "execution_count": null,
   "outputs": [],
   "source": [
    "# randomize the order of the rows\n",
    "df = df.sample(frac=1).reset_index(drop=True)\n",
    "df"
   ],
   "metadata": {
    "collapsed": false
   }
  },
  {
   "cell_type": "code",
   "execution_count": null,
   "outputs": [],
   "source": [
    "beds_to_room = {1: ['Living', 'Dining', 'Family', 'Kitchen', 'Bed', 'Basement'],\n",
    "                2: ['Living', 'Dining', 'Family', 'Kitchen', 'Bed', 'Bed2', 'Basement'],\n",
    "                3: ['Living', 'Dining', 'Family', 'Kitchen', 'Bed', 'Bed2', 'Bed3', 'Basement'],\n",
    "                4: ['Living', 'Dining', 'Family', 'Kitchen', 'Bed', 'Bed2', 'Bed3', 'Bed4', 'Basement'],\n",
    "                5: ['Living', 'Dining', 'Family', 'Kitchen', 'Bed', 'Bed2', 'Bed3', 'Bed4', 'Bed_Others', 'Basement'],\n",
    "                6: ['Living', 'Dining', 'Family', 'Kitchen', 'Bed', 'Bed2', 'Bed3', 'Bed4', 'Bed_Others', 'Basement'],\n",
    "                7: ['Living', 'Dining', 'Family', 'Kitchen', 'Bed', 'Bed2', 'Bed3', 'Bed4', 'Bed_Others', 'Basement'],\n",
    "                8: ['Living', 'Dining', 'Family', 'Kitchen', 'Bed', 'Bed2', 'Bed3', 'Bed4', 'Bed_Others', 'Basement'],\n",
    "                9: ['Living', 'Dining', 'Family', 'Kitchen', 'Bed', 'Bed2', 'Bed3', 'Bed4', 'Bed_Others', 'Basement'],\n",
    "                10: ['Living', 'Dining', 'Family', 'Kitchen', 'Bed', 'Bed2', 'Bed3', 'Bed4', 'Bed_Others', 'Basement'],\n",
    "                11: ['Living', 'Dining', 'Family', 'Kitchen', 'Bed', 'Bed2', 'Bed3', 'Bed4', 'Bed_Others', 'Basement'],\n",
    "                12: ['Living', 'Dining', 'Family', 'Kitchen', 'Bed', 'Bed2', 'Bed3', 'Bed4', 'Bed_Others', 'Basement'],\n",
    "                13: ['Living', 'Dining', 'Family', 'Kitchen', 'Bed', 'Bed2', 'Bed3', 'Bed4', 'Bed_Others', 'Basement']}\n",
    "\n",
    "df['Room'] = df.groupby('ZPID')['Beds'].apply(lambda x: x.map(beds_to_room))"
   ],
   "metadata": {
    "collapsed": false
   }
  },
  {
   "cell_type": "code",
   "execution_count": null,
   "outputs": [],
   "source": [
    "# divide the df into 4 parts\n",
    "df1 = df.iloc[:int(df.shape[0]/5), :]\n",
    "print(len(df1))\n",
    "df1= df1.explode('Room')\n",
    "df1.head()"
   ],
   "metadata": {
    "collapsed": false,
    "is_executing": true
   }
  },
  {
   "cell_type": "code",
   "execution_count": null,
   "outputs": [],
   "source": [
    "# divide the df into 4 parts\n",
    "df2 = df.iloc[int(df.shape[0]/5):int(df.shape[0]/5*2), :]\n",
    "print(len(df2))\n",
    "df2= df2.explode('Room')\n",
    "df2.head()"
   ],
   "metadata": {
    "collapsed": false
   }
  },
  {
   "cell_type": "code",
   "execution_count": null,
   "outputs": [],
   "source": [
    "# divide the df into 4 parts\n",
    "df3 = df.iloc[int(df.shape[0]/5*2):int(df.shape[0]/5*3.5), :]\n",
    "print(len(df3))\n",
    "df3= df3.explode('Room')\n",
    "df3.head()"
   ],
   "metadata": {
    "collapsed": false
   }
  },
  {
   "cell_type": "code",
   "execution_count": null,
   "outputs": [],
   "source": [
    "df4 = df.iloc[int(df.shape[0]/5*3.5):, :]\n",
    "print(len(df4))\n",
    "df4= df4.explode('Room')\n",
    "df4.head()"
   ],
   "metadata": {
    "collapsed": false
   }
  },
  {
   "cell_type": "code",
   "execution_count": null,
   "outputs": [],
   "source": [
    "\n",
    "from openpyxl.styles import Border, Side\n",
    "from openpyxl.utils.dataframe import dataframe_to_rows\n",
    "from openpyxl import Workbook\n",
    "\n",
    "wb1 = Workbook()\n",
    "ws1 = wb1.active\n",
    "\n",
    "for r in dataframe_to_rows(df1, index=False, header=True):\n",
    "    ws1.append(r)\n",
    "\n",
    "# initialize the last_seen variable with None\n",
    "last_seen = None\n",
    "\n",
    "# set the border properties for the last cell with a unique ZPID\n",
    "for row in ws1.iter_rows(min_row=2, max_row=ws1.max_row, min_col=1, max_col=ws1.max_column):\n",
    "    current_zpid = row[0].value\n",
    "    if current_zpid != last_seen:\n",
    "        # if the current ZPID is different from the last seen ZPID, set the border for the last cell with the last seen ZPID\n",
    "        for cell in row[:]:\n",
    "            cell.border = Border(top=Side(style='thick'))\n",
    "    last_seen = current_zpid\n",
    "\n",
    "\n",
    "wb1.save('Midwest_Yooshin.xlsx')"
   ],
   "metadata": {
    "collapsed": false
   }
  },
  {
   "cell_type": "code",
   "execution_count": null,
   "outputs": [],
   "source": [
    "wb2 = Workbook()\n",
    "ws2 = wb2.active\n",
    "\n",
    "for r in dataframe_to_rows(df2, index=False, header=True):\n",
    "    ws2.append(r)\n",
    "\n",
    "# initialize the last_seen variable with None\n",
    "last_seen = None\n",
    "\n",
    "# set the border properties for the last cell with a unique ZPID\n",
    "for row in ws2.iter_rows(min_row=2, max_row=ws2.max_row, min_col=1, max_col=ws2.max_column):\n",
    "    current_zpid = row[0].value\n",
    "    if current_zpid != last_seen:\n",
    "        # if the current ZPID is different from the last seen ZPID, set the border for the last cell with the last seen ZPID\n",
    "        for cell in row[:]:\n",
    "            cell.border = Border(top=Side(style='thick'))\n",
    "    last_seen = current_zpid\n",
    "\n",
    "wb2.save('Midwest_Mr.Chung.xlsx')"
   ],
   "metadata": {
    "collapsed": false
   }
  },
  {
   "cell_type": "code",
   "execution_count": null,
   "outputs": [],
   "source": [
    "wb3 = Workbook()\n",
    "ws3 = wb3.active\n",
    "\n",
    "for r in dataframe_to_rows(df3, index=False, header=True):\n",
    "    ws3.append(r)\n",
    "\n",
    "# initialize the last_seen variable with None\n",
    "last_seen = None\n",
    "\n",
    "# set the border properties for the last cell with a unique ZPID\n",
    "for row in ws3.iter_rows(min_row=2, max_row=ws3.max_row, min_col=1, max_col=ws3.max_column):\n",
    "    current_zpid = row[0].value\n",
    "    if current_zpid != last_seen:\n",
    "        # if the current ZPID is different from the last seen ZPID, set the border for the last cell with the last seen ZPID\n",
    "        for cell in row[:]:\n",
    "            cell.border = Border(top=Side(style='thick'))\n",
    "    last_seen = current_zpid\n",
    "\n",
    "wb3.save('Midwest_Petros.xlsx')"
   ],
   "metadata": {
    "collapsed": false
   }
  },
  {
   "cell_type": "code",
   "execution_count": null,
   "outputs": [],
   "source": [
    "wb4 = Workbook()\n",
    "ws4 = wb4.active\n",
    "\n",
    "for r in dataframe_to_rows(df4, index=False, header=True):\n",
    "    ws4.append(r)\n",
    "\n",
    "# initialize the last_seen variable with None\n",
    "last_seen = None\n",
    "\n",
    "# set the border properties for the last cell with a unique ZPID\n",
    "for row in ws4.iter_rows(min_row=2, max_row=ws4.max_row, min_col=1, max_col=ws4.max_column):\n",
    "    current_zpid = row[0].value\n",
    "    if current_zpid != last_seen:\n",
    "        # if the current ZPID is different from the last seen ZPID, set the border for the last cell with the last seen ZPID\n",
    "        for cell in row[:]:\n",
    "            cell.border = Border(top=Side(style='thick'))\n",
    "    last_seen = current_zpid\n",
    "\n",
    "wb4.save('Midwest_Aiden.xlsx')\n"
   ],
   "metadata": {
    "collapsed": false
   }
  }
 ],
 "metadata": {
  "kernelspec": {
   "display_name": "Python 3",
   "language": "python",
   "name": "python3"
  },
  "language_info": {
   "codemirror_mode": {
    "name": "ipython",
    "version": 2
   },
   "file_extension": ".py",
   "mimetype": "text/x-python",
   "name": "python",
   "nbconvert_exporter": "python",
   "pygments_lexer": "ipython2",
   "version": "2.7.6"
  }
 },
 "nbformat": 4,
 "nbformat_minor": 0
}
