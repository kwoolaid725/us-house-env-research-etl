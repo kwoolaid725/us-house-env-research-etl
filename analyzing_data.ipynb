{
 "cells": [
  {
   "cell_type": "code",
   "execution_count": null,
   "metadata": {
    "collapsed": true
   },
   "outputs": [],
   "source": [
    "import pandas as pd\n",
    "import plotly.express as px\n",
    "\n",
    "# import excel file\n",
    "df = pd.read_excel('HouseData-All.xlsx', sheet_name='Combined')\n",
    "df['Floor_Type'] = df['Floor_Type'].str.capitalize()\n",
    "df.head()\n"
   ]
  },
  {
   "cell_type": "code",
   "execution_count": null,
   "outputs": [],
   "source": [
    "# Fill in built year with the first value by each ZPID\n",
    "df['Built Year'] = df.groupby('ZPID')['Built Year'].ffill()\n",
    "df['Built Year'] = df['Built Year'].astype(int)\n",
    "\n",
    "# '*' values in the 'Floor_Type' column are replaced with blank\n",
    "df['Floor_Type'] = df['Floor_Type'].replace('*', None)\n",
    "\n",
    "df['Count'] = 1\n",
    "df"
   ],
   "metadata": {
    "collapsed": false
   }
  },
  {
   "cell_type": "code",
   "execution_count": null,
   "outputs": [],
   "source": [
    "# drop rows with empty values in column 'Floor_Type'\n",
    "df = df.dropna(subset=['Floor_Type'])\n",
    "df"
   ],
   "metadata": {
    "collapsed": false
   }
  },
  {
   "cell_type": "code",
   "execution_count": null,
   "outputs": [],
   "source": [
    "# change values that start with 'Bed' to 'bedroom' using regex\n",
    "df['Room'] = df['Room'].replace(r'^Bed.*', 'Bedroom', regex=True)\n",
    "df"
   ],
   "metadata": {
    "collapsed": false
   }
  },
  {
   "cell_type": "code",
   "execution_count": null,
   "outputs": [],
   "source": [
    "# sunburst chart of floor types\n",
    "# https://plotly.com/python/sunburst-charts/\n",
    "fig_sunburst_ALL = px.sunburst(df, path=['Room','Floor_Type'], values='Count',width=750, height=750, title='Floor Types by Room (All Regions)')\n",
    "fig_sunburst_ALL"
   ],
   "metadata": {
    "collapsed": false
   }
  },
  {
   "cell_type": "code",
   "execution_count": null,
   "outputs": [],
   "source": [
    "fig_sunburst_Region = px.sunburst(df, path=['Region','Room','Floor_Type'], values='Count',width=750, height=750, title='Floor Types by Region')\n",
    "fig_sunburst_Region"
   ],
   "metadata": {
    "collapsed": false
   }
  },
  {
   "cell_type": "code",
   "execution_count": null,
   "outputs": [],
   "source": [
    "df_Northeast = df[df['Region'] == 'Northeast']\n",
    "df_South = df[df['Region'] == 'South']\n",
    "df_West = df[df['Region'] == 'West']\n",
    "df_Midwest = df[df['Region'] == 'Midwest']\n"
   ],
   "metadata": {
    "collapsed": false
   }
  },
  {
   "cell_type": "code",
   "execution_count": null,
   "outputs": [],
   "source": [
    "fig_map_All = px.choropleth(df, color=\"Region\",locations=\"State\", locationmode=\"USA-states\", scope=\"usa\",\n",
    "                        color_discrete_map={'Northeast':'#EF553B','South':'#AB63FA','Midwest':'#636EFA','West':'#00CC96'})\n",
    "# fig_map_All update_layout(color\n",
    "fig_map_All.update_layout(margin={\"r\":0,\"t\":0,\"l\":0,\"b\":0})\n",
    "fig_map_All.show()"
   ],
   "metadata": {
    "collapsed": false
   }
  },
  {
   "cell_type": "code",
   "execution_count": null,
   "outputs": [],
   "source": [
    "fig_sunburst_Northeast = px.sunburst(df_Northeast, path=['Region','Division','Room','Floor_Type'], values='Count', width=750, height=750, title='Northeast Region Floor Types')\n",
    "fig_sunburst_Northeast"
   ],
   "metadata": {
    "collapsed": false
   }
  },
  {
   "cell_type": "code",
   "execution_count": null,
   "outputs": [],
   "source": [
    "fig_map_NE = px.choropleth(df_Northeast, color=\"Division\",locations=\"State\", locationmode=\"USA-states\", scope=\"usa\")\n",
    "                        # color_discrete_map={'Northeast':'#EF553B','South':'#AB63FA','Midwest':'#636EFA','West':'#00CC96'})\n",
    "# fig_map_All update_layout(color\n",
    "fig_map_NE.update_layout(margin={\"r\":0,\"t\":0,\"l\":0,\"b\":0})\n",
    "fig_map_NE.show()"
   ],
   "metadata": {
    "collapsed": false
   }
  },
  {
   "cell_type": "code",
   "execution_count": null,
   "outputs": [],
   "source": [
    "fig_sunburst_South = px.sunburst(df_South, path=['Region','Division','Room','Floor_Type'], values='Count', width=750, height=750, title='South Region Floor Types')\n",
    "fig_sunburst_South"
   ],
   "metadata": {
    "collapsed": false
   }
  },
  {
   "cell_type": "code",
   "execution_count": null,
   "outputs": [],
   "source": [
    "fig_map_South = px.choropleth(df_South, color=\"Division\",locations=\"State\", locationmode=\"USA-states\", scope=\"usa\",\n",
    "                        color_discrete_map={'West South Central':'#EF553B','South Atlantic':'#636EFA','East South Central':'#00CC96'})\n",
    "# fig_map_All update_layout(color\n",
    "fig_map_South.update_layout(margin={\"r\":0,\"t\":0,\"l\":0,\"b\":0})\n",
    "fig_map_South.show()"
   ],
   "metadata": {
    "collapsed": false
   }
  },
  {
   "cell_type": "code",
   "execution_count": null,
   "outputs": [],
   "source": [
    "fig_sunburst_West = px.sunburst(df_West, path=['Region','Division','Room','Floor_Type'], values='Count', width=750, height=750, title='West Region Floor Types')\n",
    "fig_sunburst_West"
   ],
   "metadata": {
    "collapsed": false
   }
  },
  {
   "cell_type": "code",
   "execution_count": null,
   "outputs": [],
   "source": [
    "fig_map_West = px.choropleth(df_West, color=\"Division\",locations=\"State\", locationmode=\"USA-states\", scope=\"usa\")\n",
    "                        # color_discrete_map={'West South Central':'#EF553B','South Atlantic':'#636EFA','East South Central':'#00CC96'})\n",
    "# fig_map_All update_layout(color\n",
    "fig_map_West.update_layout(margin={\"r\":0,\"t\":0,\"l\":0,\"b\":0})\n",
    "fig_map_West.show()"
   ],
   "metadata": {
    "collapsed": false
   }
  },
  {
   "cell_type": "code",
   "execution_count": null,
   "outputs": [],
   "source": [
    "fig_sunburst_Midwest = px.sunburst(df_Midwest, path=['Region','Division','Room','Floor_Type'], values='Count', width=750, height=750, title='Midwest Region Floor Types')\n",
    "fig_sunburst_Midwest"
   ],
   "metadata": {
    "collapsed": false
   }
  },
  {
   "cell_type": "code",
   "execution_count": null,
   "outputs": [],
   "source": [
    "fig_map_Midwest = px.choropleth(df_Midwest, color=\"Division\",locations=\"State\", locationmode=\"USA-states\", scope=\"usa\")\n",
    "                        # color_discrete_map={'West South Central':'#EF553B','South Atlantic':'#636EFA','East South Central':'#00CC96'})\n",
    "# fig_map_All update_layout(color\n",
    "fig_map_Midwest.update_layout(margin={\"r\":0,\"t\":0,\"l\":0,\"b\":0})\n",
    "fig_map_Midwest.show()"
   ],
   "metadata": {
    "collapsed": false
   }
  },
  {
   "cell_type": "code",
   "execution_count": null,
   "outputs": [],
   "source": [
    "# add 0 in front of the zipcodes that are less than 5 digits\n",
    "df['Zipcode'] = df['Zipcode'].astype(str)\n",
    "df['Zipcode'] = df['Zipcode'].str.zfill(5)\n",
    "df\n"
   ],
   "metadata": {
    "collapsed": false
   }
  },
  {
   "cell_type": "code",
   "execution_count": null,
   "outputs": [],
   "source": [
    "df_bedroom_zip = df[df['Room'] == 'Bedroom'].groupby(['Zipcode','Floor_Type'])['Count'].sum().reset_index()\n",
    "df_bedroom_zip\n",
    "\n"
   ],
   "metadata": {
    "collapsed": false
   }
  },
  {
   "cell_type": "code",
   "execution_count": null,
   "outputs": [],
   "source": [
    "bed_total_count = df_bedroom_zip.groupby('Zipcode')['Count'].sum()\n",
    "bed_carpet_count = df_bedroom_zip[df_bedroom_zip['Floor_Type'] == 'Carpet'].groupby('Zipcode')['Count'].sum()\n",
    "bed_carpet_percentage = (bed_carpet_count / bed_total_count) * 100\n",
    "bed_carpet_percentage = bed_carpet_percentage.fillna(0)\n",
    "bed_carpet_percentage"
   ],
   "metadata": {
    "collapsed": false
   }
  },
  {
   "cell_type": "code",
   "execution_count": null,
   "outputs": [],
   "source": [
    "fig=px.choropleth(locations=bed_carpet_percentage.index, locationmode=\"USA-states\", color=bed_carpet_percentage.values, scope=\"usa\", color_continuous_scale=px.colors.sequential.YlOrRd, labels={'color':'Percentage of Bedrooms with Carpet'})\n",
    "# fig.update_layout(margin={\"r\":0,\"t\":0,\"l\":0,\"b\":0})\n"
   ],
   "metadata": {
    "collapsed": false
   }
  }
 ],
 "metadata": {
  "kernelspec": {
   "display_name": "Python 3",
   "language": "python",
   "name": "python3"
  },
  "language_info": {
   "codemirror_mode": {
    "name": "ipython",
    "version": 2
   },
   "file_extension": ".py",
   "mimetype": "text/x-python",
   "name": "python",
   "nbconvert_exporter": "python",
   "pygments_lexer": "ipython2",
   "version": "2.7.6"
  }
 },
 "nbformat": 4,
 "nbformat_minor": 0
}
