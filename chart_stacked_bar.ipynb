{
 "cells": [
  {
   "cell_type": "code",
   "execution_count": null,
   "metadata": {
    "collapsed": true
   },
   "outputs": [],
   "source": [
    "import pandas as pd\n",
    "import plotly.express as px\n",
    "import plotly.graph_objects as go\n",
    "import plotly.colors as cl\n",
    "import kaleido\n",
    "\n",
    "# import excel file\n",
    "df = pd.read_excel('HouseData-All.xlsx', sheet_name='Combined')\n",
    "df['Floor_Type'] = df['Floor_Type'].str.capitalize()\n",
    "df.head()\n",
    "\n"
   ]
  },
  {
   "cell_type": "code",
   "execution_count": null,
   "outputs": [],
   "source": [
    "# Fill in built year with the first value by each ZPID\n",
    "df['Built Year'] = df.groupby('ZPID')['Built Year'].ffill()\n",
    "df['Built Year'] = df['Built Year'].astype(int)\n",
    "\n",
    "# '*' values in the 'Floor_Type' column are replaced with blank\n",
    "df['Floor_Type'] = df['Floor_Type'].replace('*', None)\n",
    "\n",
    "df['Count'] = 1\n",
    "df.head()"
   ],
   "metadata": {
    "collapsed": false
   }
  },
  {
   "cell_type": "code",
   "execution_count": null,
   "outputs": [],
   "source": [
    "# drop rows with empty values in column 'Floor_Type'\n",
    "df = df.dropna(subset=['Floor_Type'])\n",
    "df.head()"
   ],
   "metadata": {
    "collapsed": false
   }
  },
  {
   "cell_type": "code",
   "execution_count": null,
   "outputs": [],
   "source": [
    "# change values that start with 'Bed' to 'bedroom' using regex\n",
    "df['Room'] = df['Room'].replace(r'^Bed.*', 'Bedroom', regex=True)\n",
    "df.head()"
   ],
   "metadata": {
    "collapsed": false
   }
  },
  {
   "cell_type": "code",
   "execution_count": null,
   "outputs": [],
   "source": [
    "# sum the count of each room type\n",
    "df_sum = df.groupby(['Room', 'Region', 'Division', 'Floor_Type'])['Count'].sum().reset_index()\n",
    "df_sum.head()\n"
   ],
   "metadata": {
    "collapsed": false
   }
  },
  {
   "cell_type": "code",
   "execution_count": null,
   "outputs": [],
   "source": [
    "# pivot the table to have the floor type as columns\n",
    "df_sum = df_sum.pivot_table(index=['Room', 'Region', 'Division'], columns='Floor_Type', values='Count').reset_index()\n",
    "df_sum.head()"
   ],
   "metadata": {
    "collapsed": false
   }
  },
  {
   "cell_type": "code",
   "execution_count": null,
   "outputs": [],
   "source": [
    "df_sum['Bare%'] = (df_sum['Bare'] / (df_sum['Bare'] + df_sum['Carpet'] + df_sum['Rug']) * 100).round(1)\n",
    "df_sum['Carpet%'] = (df_sum['Carpet'] / (df_sum['Bare'] + df_sum['Carpet'] + df_sum['Rug']) * 100).round(1)\n",
    "df_sum['Rug%'] = (df_sum['Rug'] / (df_sum['Bare'] + df_sum['Carpet'] + df_sum['Rug']) * 100).round(1)\n",
    "df_sum.head()\n",
    "# two decimal places\n"
   ],
   "metadata": {
    "collapsed": false
   }
  },
  {
   "cell_type": "code",
   "execution_count": null,
   "outputs": [],
   "source": [
    "df_sum_region = df_sum.groupby(['Room','Region'])[['Bare','Carpet','Rug']].sum().reset_index()\n",
    "df_sum_region['Bare%'] = (df_sum_region['Bare'] / (df_sum_region['Bare'] + df_sum_region['Carpet'] + df_sum_region['Rug']) * 100).round(1)\n",
    "df_sum_region['Carpet%'] = (df_sum_region['Carpet'] / (df_sum_region['Bare'] + df_sum_region['Carpet'] + df_sum_region['Rug']) * 100).round(1)\n",
    "df_sum_region['Rug%'] = (df_sum_region['Rug'] / (df_sum_region['Bare'] + df_sum_region['Carpet'] + df_sum_region['Rug']) * 100).round(1)\n",
    "df_sum_region.head()\n",
    "# two decimal places\n",
    "\n"
   ],
   "metadata": {
    "collapsed": false
   }
  },
  {
   "cell_type": "code",
   "execution_count": null,
   "outputs": [],
   "source": [
    "# by Room for all regions\n",
    "df_bedroom = df_sum_region[df_sum_region['Room'] == 'Bedroom']\n",
    "df_living = df_sum_region[df_sum_region['Room'] == 'Living']\n",
    "df_dining = df_sum_region[df_sum_region['Room'] == 'Dining']\n",
    "df_kitchen = df_sum_region[df_sum_region['Room'] == 'Kitchen']\n",
    "df_family = df_sum_region[df_sum_region['Room'] == 'Family']\n",
    "df_basement = df_sum_region[df_sum_region['Room'] == 'Basement']\n"
   ],
   "metadata": {
    "collapsed": false
   }
  },
  {
   "cell_type": "code",
   "execution_count": null,
   "outputs": [],
   "source": [
    "# MIDWEST\n",
    "df_midwest = df_sum[df_sum['Region'] == 'Midwest']\n",
    "# NORTHEAST\n",
    "df_northeast = df_sum[df_sum['Region'] == 'Northeast']\n",
    "# SOUTH\n",
    "df_south = df_sum[df_sum['Region'] == 'South']\n",
    "# WEST\n",
    "df_west = df_sum[df_sum['Region'] == 'West']\n"
   ],
   "metadata": {
    "collapsed": false
   }
  },
  {
   "cell_type": "code",
   "execution_count": null,
   "outputs": [],
   "source": [
    "# MIDWEST\n",
    "df_midwest_bedroom = (df_midwest[df_midwest['Room'] == 'Bedroom']).sort_values(by=['Region'], ascending=True)\n",
    "df_midwest_living = (df_midwest[df_midwest['Room'] == 'Living']).sort_values(by=['Region'], ascending=True)\n",
    "df_midwest_kitchen = (df_midwest[df_midwest['Room'] == 'Kitchen']).sort_values(by=['Region'], ascending=True)\n",
    "df_midwest_dining = (df_midwest[df_midwest['Room'] == 'Dining']).sort_values(by=['Region'], ascending=True)\n",
    "df_midwest_family = (df_midwest[df_midwest['Room'] == 'Family']).sort_values(by=['Region'], ascending=True)\n",
    "df_midwest_basement = (df_midwest[df_midwest['Room'] == 'Basement']).sort_values(by=['Region'], ascending=True)\n",
    "\n",
    "# NORTHEAST\n",
    "df_northeast_bedroom = (df_northeast[df_northeast['Room'] == 'Bedroom']).sort_values(by=['Region'], ascending=True)\n",
    "df_northeast_living = (df_northeast[df_northeast['Room'] == 'Living']).sort_values(by=['Region'], ascending=True)\n",
    "df_northeast_kitchen = (df_northeast[df_northeast['Room'] == 'Kitchen']).sort_values(by=['Region'], ascending=True)\n",
    "df_northeast_dining = (df_northeast[df_northeast['Room'] == 'Dining']).sort_values(by=['Region'], ascending=True)\n",
    "df_northeast_family = (df_northeast[df_northeast['Room'] == 'Family']).sort_values(by=['Region'], ascending=True)\n",
    "df_northeast_basement = (df_northeast[df_northeast['Room'] == 'Basement']).sort_values(by=['Region'], ascending=True)\n",
    "\n",
    "# SOUTH\n",
    "df_south_bedroom = (df_south[df_south['Room'] == 'Bedroom']).sort_values(by=['Region'], ascending=True)\n",
    "df_south_living = (df_south[df_south['Room'] == 'Living']).sort_values(by=['Region'], ascending=True)\n",
    "df_south_kitchen = (df_south[df_south['Room'] == 'Kitchen']).sort_values(by=['Region'], ascending=True)\n",
    "df_south_dining = (df_south[df_south['Room'] == 'Dining']).sort_values(by=['Region'], ascending=True)\n",
    "df_south_family = (df_south[df_south['Room'] == 'Family']).sort_values(by=['Region'], ascending=True)\n",
    "df_south_basement = (df_south[df_south['Room'] == 'Basement']).sort_values(by=['Region'], ascending=True)\n",
    "\n",
    "# WEST\n",
    "df_west_bedroom = (df_west[df_west['Room'] == 'Bedroom']).sort_values(by=['Region'], ascending=True)\n",
    "df_west_living = (df_west[df_west['Room'] == 'Living']).sort_values(by=['Region'], ascending=True)\n",
    "df_west_kitchen = (df_west[df_west['Room'] == 'Kitchen']).sort_values(by=['Region'], ascending=True)\n",
    "df_west_dining = (df_west[df_west['Room'] == 'Dining']).sort_values(by=['Region'], ascending=True)\n",
    "df_west_family = (df_west[df_west['Room'] == 'Family']).sort_values(by=['Region'], ascending=True)\n",
    "df_west_basement = (df_west[df_west['Room'] == 'Basement']).sort_values(by=['Region'], ascending=True)\n",
    "\n"
   ],
   "metadata": {
    "collapsed": false
   }
  },
  {
   "cell_type": "code",
   "execution_count": null,
   "outputs": [],
   "source": [
    "# BEDROOM BY REGION\n",
    "fig_bedroom = px.bar(df_bedroom,\n",
    "             x='Region',\n",
    "             y=['Bare%','Rug%','Carpet%'],\n",
    "             barmode='stack',\n",
    "             color_discrete_sequence=px.colors.qualitative.Pastel,\n",
    "             title='Bedroom Floor Type by Region',\n",
    "             labels={'value':'Percentage of Floor Type', 'variable':'Floor Type', 'x':'Region'},\n",
    "             text_auto='auto')\n",
    "\n",
    "fig_bedroom.update_layout(legend_traceorder='reversed', title_x=0.5)\n",
    "fig_bedroom.show()\n",
    "fig_bedroom.write_image('Bedroom by Region.png')\n"
   ],
   "metadata": {
    "collapsed": false
   }
  },
  {
   "cell_type": "code",
   "execution_count": null,
   "outputs": [],
   "source": [
    "# LIVING ROOM BY REGION\n",
    "fig_living = px.bar(df_living,\n",
    "             x='Region',\n",
    "             y=['Bare%','Rug%','Carpet%'],\n",
    "             barmode='stack',\n",
    "             color_discrete_sequence=px.colors.qualitative.Pastel,\n",
    "             title='Living Room Floor Type by Region',\n",
    "             labels={'value':'Percentage of Floor Type', 'variable':'Floor Type', 'x':'Region'},\n",
    "             text_auto='auto')\n",
    "\n",
    "# textposition = 'auto' to display the value on top of the bar\n",
    "fig_living.update_layout(legend_traceorder='reversed', title_x=0.5)\n",
    "fig_living.show()\n",
    "fig_living.write_image('Living Room by Region.png')\n"
   ],
   "metadata": {
    "collapsed": false
   }
  },
  {
   "cell_type": "code",
   "execution_count": null,
   "outputs": [],
   "source": [
    "# DINING ROOM BY REGION\n",
    "fig_dining = px.bar(df_dining,\n",
    "             x='Region',\n",
    "             y=['Bare%','Rug%','Carpet%'],\n",
    "             barmode='stack',\n",
    "             color_discrete_sequence=px.colors.qualitative.Pastel,\n",
    "             title='Dining Room Floor Type by Region',\n",
    "             labels={'value':'Percentage of Floor Type', 'variable':'Floor Type', 'x':'Region'},\n",
    "             text_auto='auto')\n",
    "\n",
    "fig_dining.update_layout(legend_traceorder='reversed', title_x=0.5)\n",
    "fig_dining.show()\n",
    "fig_dining.write_image('Dining Room by Region.png')\n"
   ],
   "metadata": {
    "collapsed": false
   }
  },
  {
   "cell_type": "code",
   "execution_count": null,
   "outputs": [],
   "source": [
    "# KITCHEN BY REGION\n",
    "fig_kitchen = px.bar(df_kitchen,\n",
    "             x='Region',\n",
    "             y=['Bare%','Rug%','Carpet%'],\n",
    "             barmode='stack',\n",
    "             color_discrete_sequence=px.colors.qualitative.Pastel,\n",
    "             title='Kitchen Floor Type by Region',\n",
    "             labels={'value':'Percentage of Floor Type', 'variable':'Floor Type', 'x':'Region'},\n",
    "             text_auto='auto')\n",
    "\n",
    "fig_kitchen.update_layout(legend_traceorder='reversed', title_x=0.5)\n",
    "fig_kitchen.show()\n",
    "fig_kitchen.write_image('Kitchen by Region.png')\n"
   ],
   "metadata": {
    "collapsed": false
   }
  },
  {
   "cell_type": "code",
   "execution_count": null,
   "outputs": [],
   "source": [
    "# FAMILY ROOM BY REGION\n",
    "fig_family = px.bar(df_family,\n",
    "             x='Region',\n",
    "             y=['Bare%','Rug%','Carpet%'],\n",
    "             barmode='stack',\n",
    "             color_discrete_sequence=px.colors.qualitative.Pastel,\n",
    "             title='Family Room Floor Type by Region',\n",
    "             labels={'value':'Percentage of Floor Type', 'variable':'Floor Type', 'x':'Region'},\n",
    "             text_auto='auto')\n",
    "\n",
    "fig_family.update_layout(legend_traceorder='reversed', title_x=0.5)\n",
    "fig_family.show()\n",
    "fig_family.write_image('Family Room by Region.png')\n"
   ],
   "metadata": {
    "collapsed": false
   }
  },
  {
   "cell_type": "code",
   "execution_count": null,
   "outputs": [],
   "source": [
    "# BASEMENT BY REGION\n",
    "fig_basement = px.bar(df_basement,\n",
    "             x='Region',\n",
    "             y=['Bare%','Rug%','Carpet%'],\n",
    "             barmode='stack',\n",
    "             color_discrete_sequence=px.colors.qualitative.Pastel,\n",
    "             title='Basement Floor Type by Region',\n",
    "             labels={'value':'Percentage of Floor Type', 'variable':'Floor Type', 'x':'Region'},\n",
    "             text_auto='auto')\n",
    "\n",
    "\n",
    "fig_basement.update_layout(legend_traceorder='reversed', title_x=0.5)\n",
    "fig_basement.show()\n",
    "fig_basement.write_image('Basement by Region.png')\n"
   ],
   "metadata": {
    "collapsed": false
   }
  },
  {
   "cell_type": "code",
   "execution_count": null,
   "outputs": [],
   "source": [
    "# BEDROOM BY DIVISION - MIDWEST\n",
    "fig_midwest_bedroom = px.bar(df_midwest_bedroom,\n",
    "             x='Division',\n",
    "             y=['Bare%','Rug%','Carpet%'],\n",
    "             barmode='stack',\n",
    "             color_discrete_sequence=px.colors.qualitative.Pastel,\n",
    "             title='[MIDWEST] Bedroom Floor Type by Division',\n",
    "             labels={'value':'Percentage of Floor Type', 'variable':'Floor Type', 'x':'Region'},\n",
    "             text_auto='auto')\n",
    "fig_midwest_bedroom.update_layout(legend_traceorder='reversed', title_x=0.5)\n",
    "fig_midwest_bedroom.show()\n",
    "fig_midwest_bedroom.write_image('Midwest Bedroom.png')\n"
   ],
   "metadata": {
    "collapsed": false
   }
  },
  {
   "cell_type": "code",
   "execution_count": null,
   "outputs": [],
   "source": [
    "# BEDROOM BY DIVISION - NORTHEAST\n",
    "fig_northeast_bedroom = px.bar(df_northeast_bedroom,\n",
    "             x='Division',\n",
    "             y=['Bare%','Rug%','Carpet%'],\n",
    "             barmode='stack',\n",
    "             color_discrete_sequence=px.colors.qualitative.Pastel,\n",
    "             title='[NORTHEAST] Bedroom Floor Type by Division',\n",
    "             labels={'value':'Percentage of Floor Type', 'variable':'Floor Type', 'x':'Region'},\n",
    "             text_auto='auto')\n",
    "fig_northeast_bedroom.update_layout(legend_traceorder='reversed', title_x=0.5)\n",
    "fig_northeast_bedroom.show()\n",
    "fig_northeast_bedroom.write_image('Northeast Bedroom.png')\n"
   ],
   "metadata": {
    "collapsed": false
   }
  },
  {
   "cell_type": "code",
   "execution_count": null,
   "outputs": [],
   "source": [
    "# BEDROOM BY DIVISION - SOUTH\n",
    "fig_south_bedroom = px.bar(df_south_bedroom,\n",
    "             x='Division',\n",
    "             y=['Bare%','Rug%','Carpet%'],\n",
    "             barmode='stack',\n",
    "             color_discrete_sequence=px.colors.qualitative.Pastel,\n",
    "             title='[SOUTH] Bedroom Floor Type by Division',\n",
    "             labels={'value':'Percentage of Floor Type', 'variable':'Floor Type', 'x':'Region'},\n",
    "             text_auto='auto')\n",
    "fig_south_bedroom.update_layout(legend_traceorder='reversed', title_x=0.5)\n",
    "fig_south_bedroom.show()\n",
    "fig_south_bedroom.write_image('South Bedroom.png')\n"
   ],
   "metadata": {
    "collapsed": false
   }
  },
  {
   "cell_type": "code",
   "execution_count": null,
   "outputs": [],
   "source": [
    "# BEDROOM BY DIVISION - WEST\n",
    "fig_west_bedroom = px.bar(df_west_bedroom,\n",
    "             x='Division',\n",
    "             y=['Bare%','Rug%','Carpet%'],\n",
    "             barmode='stack',\n",
    "             color_discrete_sequence=px.colors.qualitative.Pastel,\n",
    "             title='[WEST] Bedroom Floor Type by Division',\n",
    "             labels={'value':'Percentage of Floor Type', 'variable':'Floor Type', 'x':'Region'},\n",
    "             text_auto='auto')\n",
    "fig_west_bedroom.update_layout(legend_traceorder='reversed', title_x=0.5)\n",
    "fig_west_bedroom.show()\n",
    "fig_west_bedroom.write_image('West Bedroom.png')\n"
   ],
   "metadata": {
    "collapsed": false
   }
  },
  {
   "cell_type": "code",
   "execution_count": null,
   "outputs": [],
   "source": [
    "# LIVING ROOM BY DIVISION - MIDWEST\n",
    "fig_midwest_living = px.bar(df_midwest_living,\n",
    "             x='Division',\n",
    "             y=['Bare%','Rug%','Carpet%'],\n",
    "             barmode='stack',\n",
    "             color_discrete_sequence=px.colors.qualitative.Pastel,\n",
    "             title='[MIDWEST] Living Room Floor Type by Division',\n",
    "             labels={'value':'Percentage of Floor Type', 'variable':'Floor Type', 'x':'Region'},\n",
    "             text_auto='auto')\n",
    "fig_midwest_living.update_layout(legend_traceorder='reversed', title_x=0.5)\n",
    "fig_midwest_living.show()\n",
    "fig_midwest_living.write_image('Midwest Living Room.png')"
   ],
   "metadata": {
    "collapsed": false
   }
  },
  {
   "cell_type": "code",
   "execution_count": null,
   "outputs": [],
   "source": [
    "# LIVING ROOM BY DIVISION - NORTHEAST\n",
    "fig_northeast_living = px.bar(df_northeast_living,\n",
    "             x='Division',\n",
    "             y=['Bare%','Rug%','Carpet%'],\n",
    "             barmode='stack',\n",
    "             color_discrete_sequence=px.colors.qualitative.Pastel,\n",
    "             title='[NORTHEAST] Living Room Floor Type by Division',\n",
    "             labels={'value':'Percentage of Floor Type', 'variable':'Floor Type', 'x':'Region'},\n",
    "             text_auto='auto')\n",
    "fig_northeast_living.update_layout(legend_traceorder='reversed', title_x=0.5)\n",
    "fig_northeast_living.show()\n",
    "fig_northeast_living.write_image('Northeast Living Room.png')\n"
   ],
   "metadata": {
    "collapsed": false
   }
  },
  {
   "cell_type": "code",
   "execution_count": null,
   "outputs": [],
   "source": [
    "# LIVING ROOM BY DIVISION - SOUTH\n",
    "fig_south_living = px.bar(df_south_living,\n",
    "             x='Division',\n",
    "             y=['Bare%','Rug%','Carpet%'],\n",
    "             barmode='stack',\n",
    "             color_discrete_sequence=px.colors.qualitative.Pastel,\n",
    "             title='[SOUTH] Living Room Floor Type by Division',\n",
    "             labels={'value':'Percentage of Floor Type', 'variable':'Floor Type', 'x':'Region'},\n",
    "             text_auto='auto')\n",
    "fig_south_living.update_layout(legend_traceorder='reversed', title_x=0.5)\n",
    "fig_south_living.show()\n",
    "fig_south_living.write_image('South Living Room.png')"
   ],
   "metadata": {
    "collapsed": false
   }
  },
  {
   "cell_type": "code",
   "execution_count": null,
   "outputs": [],
   "source": [
    "# LIVING ROOM BY DIVISION - West\n",
    "fig_west_living = px.bar(df_west_living,\n",
    "             x='Division',\n",
    "             y=['Bare%','Rug%','Carpet%'],\n",
    "             barmode='stack',\n",
    "             color_discrete_sequence=px.colors.qualitative.Pastel,\n",
    "             title='[WEST] Living Room Floor Type by Division',\n",
    "             labels={'value':'Percentage of Floor Type', 'variable':'Floor Type', 'x':'Region'},\n",
    "             text_auto='auto')\n",
    "fig_west_living.update_layout(legend_traceorder='reversed', title_x=0.5)\n",
    "fig_west_living.show()\n",
    "fig_west_living.write_image('West Living Room.png')\n"
   ],
   "metadata": {
    "collapsed": false
   }
  },
  {
   "cell_type": "code",
   "execution_count": null,
   "outputs": [],
   "source": [
    "# BASEMENT BY DIVISION - MIDWEST\n",
    "fig_midwest_basement = px.bar(df_midwest_basement,\n",
    "                             x='Division',\n",
    "                             y=['Bare%', 'Rug%', 'Carpet%'],\n",
    "                             barmode='stack',\n",
    "                             color_discrete_sequence=px.colors.qualitative.Pastel,\n",
    "                             title='[MIDWEST] Basement Floor Type by Division',\n",
    "                             labels={'value': 'Percentage of Floor Type', 'variable': 'Floor Type', 'x': 'Region'},\n",
    "                             text_auto='auto')\n",
    "fig_midwest_basement.update_layout(legend_traceorder='reversed', title_x=0.5)\n",
    "fig_midwest_basement.show()\n",
    "fig_midwest_basement.write_image('Midwest Basement.png')\n",
    "\n",
    "# BASEMENT BY DIVISION - NORTHEAST\n",
    "fig_northeast_basement = px.bar(df_northeast_basement,\n",
    "                               x='Division',\n",
    "                               y=['Bare%', 'Rug%', 'Carpet%'],\n",
    "                               barmode='stack',\n",
    "                               color_discrete_sequence=px.colors.qualitative.Pastel,\n",
    "                               title='[NORTHEAST] Basement Floor Type by Division',\n",
    "                               labels={'value': 'Percentage of Floor Type', 'variable': 'Floor Type', 'x': 'Region'},\n",
    "                               text_auto='auto')\n",
    "fig_northeast_basement.update_layout(legend_traceorder='reversed', title_x=0.5)\n",
    "fig_northeast_basement.show()\n",
    "fig_northeast_basement.write_image('Northeast Basement.png')\n",
    "\n",
    "# BASEMENT BY DIVISION - SOUTH\n",
    "fig_south_basement = px.bar(df_south_basement,\n",
    "                           x='Division',\n",
    "                           y=['Bare%', 'Rug%', 'Carpet%'],\n",
    "                           barmode='stack',\n",
    "                           color_discrete_sequence=px.colors.qualitative.Pastel,\n",
    "                           title='[SOUTH] Basement Floor Type by Division',\n",
    "                           labels={'value': 'Percentage of Floor Type', 'variable': 'Floor Type', 'x': 'Region'},\n",
    "                           text_auto='auto')\n",
    "fig_south_basement.update_layout(legend_traceorder='reversed', title_x=0.5)\n",
    "fig_south_basement.show()\n",
    "fig_south_basement.write_image('South Basement.png')\n",
    "\n",
    "# BASEMENT BY DIVISION - WEST\n",
    "fig_west_basement = px.bar(df_west_basement,\n",
    "                          x='Division',\n",
    "                          y=['Bare%', 'Rug%', 'Carpet%'],\n",
    "                          barmode='stack',\n",
    "                          color_discrete_sequence=px.colors.qualitative.Pastel,\n",
    "                          title='[WEST] Basement Floor Type by Division',\n",
    "                          labels={'value': 'Percentage of Floor Type', 'variable': 'Floor Type', 'x': 'Region'},\n",
    "                          text_auto='auto')\n",
    "fig_west_basement.update_layout(legend_traceorder='reversed', title_x=0.5)\n",
    "fig_west_basement.show()\n",
    "fig_west_basement.write_image('West Basement.png')\n"
   ],
   "metadata": {
    "collapsed": false
   }
  },
  {
   "cell_type": "code",
   "execution_count": null,
   "outputs": [],
   "source": [
    "# FAMILY ROOM BY DIVISION - MIDWEST\n",
    "fig_midwest_family = px.bar(df_midwest_family,\n",
    "                             x='Division',\n",
    "                             y=['Bare%', 'Rug%', 'Carpet%'],\n",
    "                             barmode='stack',\n",
    "                             color_discrete_sequence=px.colors.qualitative.Pastel,\n",
    "                             title='[MIDWEST] Family Room Floor Type by Division',\n",
    "                             labels={'value': 'Percentage of Floor Type', 'variable': 'Floor Type', 'x': 'Region'},\n",
    "                             text_auto='auto')\n",
    "fig_midwest_family.update_layout(legend_traceorder='reversed', title_x=0.5)\n",
    "fig_midwest_family.show()\n",
    "fig_midwest_family.write_image('Midwest Family.png')\n",
    "\n",
    "# FAMILY ROOM BY DIVISION - NORTHEAST\n",
    "fig_northeast_family = px.bar(df_northeast_family,\n",
    "                               x='Division',\n",
    "                               y=['Bare%', 'Rug%', 'Carpet%'],\n",
    "                               barmode='stack',\n",
    "                               color_discrete_sequence=px.colors.qualitative.Pastel,\n",
    "                               title='[NORTHEAST] Family Room Floor Type by Division',\n",
    "                               labels={'value': 'Percentage of Floor Type', 'variable': 'Floor Type', 'x': 'Region'},\n",
    "                               text_auto='auto')\n",
    "fig_northeast_family.update_layout(legend_traceorder='reversed', title_x=0.5)\n",
    "fig_northeast_family.show()\n",
    "fig_northeast_family.write_image('Northeast Family.png')\n",
    "\n",
    "# FAMILY ROOM BY DIVISION - SOUTH\n",
    "fig_south_family = px.bar(df_south_family,\n",
    "                           x='Division',\n",
    "                           y=['Bare%', 'Rug%', 'Carpet%'],\n",
    "                           barmode='stack',\n",
    "                           color_discrete_sequence=px.colors.qualitative.Pastel,\n",
    "                           title='[SOUTH] Family Room Floor Type by Division',\n",
    "                           labels={'value': 'Percentage of Floor Type', 'variable': 'Floor Type', 'x': 'Region'},\n",
    "                           text_auto='auto')\n",
    "fig_south_family.update_layout(legend_traceorder='reversed', title_x=0.5)\n",
    "fig_south_family.show()\n",
    "fig_south_family.write_image('South Family.png')\n",
    "\n",
    "# FAMILY ROOM BY DIVISION - WEST\n",
    "fig_west_family = px.bar(df_west_family,\n",
    "                          x='Division',\n",
    "                          y=['Bare%', 'Rug%', 'Carpet%'],\n",
    "                          barmode='stack',\n",
    "                          color_discrete_sequence=px.colors.qualitative.Pastel,\n",
    "                          title='[WEST] Family Room Floor Type by Division',\n",
    "                          labels={'value': 'Percentage of Floor Type', 'variable': 'Floor Type', 'x': 'Region'},\n",
    "                          text_auto='auto')\n",
    "fig_west_family.update_layout(legend_traceorder='reversed', title_x=0.5)\n",
    "fig_west_family.show()\n",
    "fig_west_family.write_image('West Family.png')\n"
   ],
   "metadata": {
    "collapsed": false
   }
  },
  {
   "cell_type": "code",
   "execution_count": null,
   "outputs": [],
   "source": [
    "# DINING ROOM BY DIVISION - MIDWEST\n",
    "fig_midwest_dining = px.bar(df_midwest_dining,\n",
    "                             x='Division',\n",
    "                             y=['Bare%', 'Rug%', 'Carpet%'],\n",
    "                             barmode='stack',\n",
    "                             color_discrete_sequence=px.colors.qualitative.Pastel,\n",
    "                             title='[MIDWEST] Dining Room Floor Type by Division',\n",
    "                             labels={'value': 'Percentage of Floor Type', 'variable': 'Floor Type', 'x': 'Region'},\n",
    "                             text_auto='auto')\n",
    "fig_midwest_dining.update_layout(legend_traceorder='reversed', title_x=0.5)\n",
    "fig_midwest_dining.show()\n",
    "fig_midwest_dining.write_image('Midwest Dining.png')\n",
    "\n",
    "# DINING ROOM BY DIVISION - NORTHEAST\n",
    "fig_northeast_dining = px.bar(df_northeast_dining,\n",
    "                               x='Division',\n",
    "                               y=['Bare%', 'Rug%', 'Carpet%'],\n",
    "                               barmode='stack',\n",
    "                               color_discrete_sequence=px.colors.qualitative.Pastel,\n",
    "                               title='[NORTHEAST] Dining Room Floor Type by Division',\n",
    "                               labels={'value': 'Percentage of Floor Type', 'variable': 'Floor Type', 'x': 'Region'},\n",
    "                               text_auto='auto')\n",
    "fig_northeast_dining.update_layout(legend_traceorder='reversed', title_x=0.5)\n",
    "fig_northeast_dining.show()\n",
    "fig_northeast_dining.write_image('Northeast Dining.png')\n",
    "\n",
    "# DINING ROOM BY DIVISION - SOUTH\n",
    "fig_south_dining = px.bar(df_south_dining,\n",
    "                           x='Division',\n",
    "                           y=['Bare%', 'Rug%', 'Carpet%'],\n",
    "                           barmode='stack',\n",
    "                           color_discrete_sequence=px.colors.qualitative.Pastel,\n",
    "                           title='[SOUTH] Dining Room Floor Type by Division',\n",
    "                           labels={'value': 'Percentage of Floor Type', 'variable': 'Floor Type', 'x': 'Region'},\n",
    "                           text_auto='auto')\n",
    "fig_south_dining.update_layout(legend_traceorder='reversed', title_x=0.5)\n",
    "fig_south_dining.show()\n",
    "fig_south_dining.write_image('South Dining.png')\n",
    "\n",
    "# DINING ROOM BY DIVISION - WEST\n",
    "fig_west_dining = px.bar(df_west_dining,\n",
    "                          x='Division',\n",
    "                          y=['Bare%', 'Rug%', 'Carpet%'],\n",
    "                          barmode='stack',\n",
    "                          color_discrete_sequence=px.colors.qualitative.Pastel,\n",
    "                          title='[WEST] Dining Room Floor Type by Division',\n",
    "                          labels={'value': 'Percentage of Floor Type', 'variable': 'Floor Type', 'x': 'Region'},\n",
    "                          text_auto='auto')\n",
    "fig_west_dining.update_layout(legend_traceorder='reversed', title_x=0.5)\n",
    "fig_west_dining.show()\n",
    "fig_west_dining.write_image('West Dining.png')\n"
   ],
   "metadata": {
    "collapsed": false
   }
  },
  {
   "cell_type": "code",
   "execution_count": null,
   "outputs": [],
   "source": [
    "import numpy as np\n",
    "# new column in df for built year >= 2020\n",
    "df['New_House'] = np.where(df['Built Year'] >= 2020, 'New', 'Old')\n",
    "df.head()\n",
    "\n"
   ],
   "metadata": {
    "collapsed": false
   }
  },
  {
   "cell_type": "code",
   "execution_count": null,
   "outputs": [],
   "source": [
    "df_comparison = df.groupby(['Room','Home_Type','Home_Price','New_House', 'Floor_Type'])['Count'].sum().reset_index()\n",
    "\n",
    "# pivot the table to have the floor type as columns\n",
    "df_comparison = df_comparison.pivot_table(index=['Room','Home_Type','Home_Price','New_House'], columns='Floor_Type', values='Count').reset_index()\n",
    "df_comparison.head()"
   ],
   "metadata": {
    "collapsed": false
   }
  }
 ],
 "metadata": {
  "kernelspec": {
   "display_name": "Python 3",
   "language": "python",
   "name": "python3"
  },
  "language_info": {
   "codemirror_mode": {
    "name": "ipython",
    "version": 2
   },
   "file_extension": ".py",
   "mimetype": "text/x-python",
   "name": "python",
   "nbconvert_exporter": "python",
   "pygments_lexer": "ipython2",
   "version": "2.7.6"
  }
 },
 "nbformat": 4,
 "nbformat_minor": 0
}
