{
 "cells": [
  {
   "cell_type": "code",
   "execution_count": null,
   "metadata": {
    "collapsed": true
   },
   "outputs": [],
   "source": [
    "import pandas as pd\n",
    "import plotly.express as px\n",
    "\n",
    "# import excel file\n",
    "df = pd.read_excel('HouseData-All.xlsx', sheet_name='Combined')\n",
    "df['Floor_Type'] = df['Floor_Type'].str.capitalize()\n",
    "df.head()\n"
   ]
  },
  {
   "cell_type": "code",
   "execution_count": null,
   "outputs": [],
   "source": [
    "# Fill in built year with the first value by each ZPID\n",
    "df['Built Year'] = df.groupby('ZPID')['Built Year'].ffill()\n",
    "df['Built Year'] = df['Built Year'].astype(int)\n",
    "\n",
    "# '*' values in the 'Floor_Type' column are replaced with blank\n",
    "df['Floor_Type'] = df['Floor_Type'].replace('*', None)\n",
    "\n",
    "df['Count'] = 1\n",
    "\n",
    "df = df.dropna(subset=['Floor_Type'])\n",
    "\n",
    "df['Room'] = df['Room'].replace(r'^Bed.*', 'Bedroom', regex=True)\n",
    "\n",
    "df.head()"
   ],
   "metadata": {
    "collapsed": false
   }
  },
  {
   "cell_type": "code",
   "execution_count": null,
   "outputs": [],
   "source": [
    "df_Northeast = df[df['Region'] == 'Northeast']\n",
    "df_South = df[df['Region'] == 'South']\n",
    "df_West = df[df['Region'] == 'West']\n",
    "df_Midwest = df[df['Region'] == 'Midwest']\n"
   ],
   "metadata": {
    "collapsed": false
   }
  },
  {
   "cell_type": "code",
   "execution_count": null,
   "outputs": [],
   "source": [
    "fig_map_All = px.choropleth(df, color=\"Region\",locations=\"State\", locationmode=\"USA-states\", scope=\"usa\",\n",
    "                        color_discrete_map={'Northeast':'#EF553B','South':'#AB63FA','Midwest':'#636EFA','West':'#00CC96'},\n",
    "                        title='Researched States')\n",
    "# fig_map_All update_layout(color\n",
    "fig_map_All.update_layout(margin={\"r\":0,\"t\":50,\"l\":0,\"b\":0}, title_x=0.5)\n",
    "fig_map_All.show()\n",
    "fig_map_All.write_image('Map - All Regions.png')"
   ],
   "metadata": {
    "collapsed": false
   }
  },
  {
   "cell_type": "code",
   "execution_count": null,
   "outputs": [],
   "source": [
    "fig_map_NE = px.choropleth(df_Northeast, color=\"Division\",locations=\"State\", locationmode=\"USA-states\", scope=\"usa\", title='Northeast Regions')\n",
    "                        # color_discrete_map={'Northeast':'#EF553B','South':'#AB63FA','Midwest':'#636EFA','West':'#00CC96'})\n",
    "# fig_map_All update_layout(color\n",
    "fig_map_NE.update_layout(margin={\"r\":0,\"t\":50,\"l\":0,\"b\":0}, title_x=0.5)\n",
    "fig_map_NE.add_scattergeo(\n",
    "    locations=df_Northeast['State'],\n",
    "    locationmode=\"USA-states\",\n",
    "    text=df_Northeast['State'],\n",
    "    mode='text',\n",
    "    textfont=dict(\n",
    "        family=\"Avenir Light\",\n",
    "        size=10,\n",
    "\n",
    "    ),\n",
    ")\n",
    "fig_map_NE.show()\n",
    "fig_map_NE.write_image('Map - Northeast.png')"
   ],
   "metadata": {
    "collapsed": false
   }
  },
  {
   "cell_type": "code",
   "execution_count": null,
   "outputs": [],
   "source": [
    "fig_map_Midwest = px.choropleth(df_Midwest, color=\"Division\",locations=\"State\", locationmode=\"USA-states\", scope=\"usa\", title='Midwest Regions')\n",
    "                        # color_discrete_map={'West South Central':'#EF553B','South Atlantic':'#636EFA','East South Central':'#00CC96'})\n",
    "# fig_map_All update_layout(color\n",
    "fig_map_Midwest.update_layout(margin={\"r\":0,\"t\":50,\"l\":0,\"b\":0}, title_x=0.5)\n",
    "fig_map_Midwest.add_scattergeo(\n",
    "    locations=df_Midwest['State'],\n",
    "    locationmode=\"USA-states\",\n",
    "    text=df_Midwest['State'],\n",
    "    mode='text',\n",
    "    textfont=dict(\n",
    "        family=\"Avenir Light\",\n",
    "        size=10,\n",
    "\n",
    "    ),\n",
    ")\n",
    "fig_map_Midwest.show()\n",
    "fig_map_Midwest.write_image('Map - Midwest.png')\n"
   ],
   "metadata": {
    "collapsed": false
   }
  },
  {
   "cell_type": "code",
   "execution_count": null,
   "outputs": [],
   "source": [
    "fig_map_South = px.choropleth(df_South, color=\"Division\",locations=\"State\", locationmode=\"USA-states\", scope=\"usa\", title='South Regions')\n",
    "                        # color_discrete_map={'West South Central':'#EF553B','South Atlantic':'#636EFA','East South Central':'#00CC96'})\n",
    "# fig_map_All update_layout(color\n",
    "fig_map_South.update_layout(margin={\"r\":0,\"t\":50,\"l\":0,\"b\":0}, title_x=0.5)\n",
    "fig_map_South.add_scattergeo(\n",
    "    locations=df_South['State'],\n",
    "    locationmode=\"USA-states\",\n",
    "    text=df_South['State'],\n",
    "    mode='text',\n",
    "    textfont=dict(\n",
    "        family=\"Avenir Light\",\n",
    "        size=10,\n",
    "\n",
    "    ),\n",
    ")\n",
    "fig_map_South.show()\n",
    "fig_map_South.write_image('Map - South.png')\n"
   ],
   "metadata": {
    "collapsed": false
   }
  },
  {
   "cell_type": "code",
   "execution_count": null,
   "outputs": [],
   "source": [
    "fig_map_West = px.choropleth(df_West, color=\"Division\",locations=\"State\", locationmode=\"USA-states\", scope=\"usa\", title='West Regions')\n",
    "                        # color_discrete_map={'West West Central':'#EF553B','West Atlantic':'#636EFA','East West Central':'#00CC96'})\n",
    "# fig_map_All update_layout(color\n",
    "fig_map_West.update_layout(margin={\"r\":0,\"t\":50,\"l\":0,\"b\":0}, title_x=0.5)\n",
    "fig_map_West.add_scattergeo(\n",
    "    locations=df_West['State'],\n",
    "    locationmode=\"USA-states\",\n",
    "    text=df_West['State'],\n",
    "    mode='text',\n",
    "    textfont=dict(\n",
    "        family=\"Avenir Light\",\n",
    "        size=10,\n",
    "\n",
    "    ),\n",
    ")\n",
    "fig_map_West.show()\n",
    "fig_map_West.write_image('Map - West.png')\n"
   ],
   "metadata": {
    "collapsed": false
   }
  },
  {
   "cell_type": "code",
   "execution_count": null,
   "outputs": [],
   "source": [
    "fig_sunburst_ALL = px.sunburst(df, path=['Room', 'Floor_Type'], values='Count', width=750, height=750,\n",
    "                               title='Floor Types by Room (All Regions)')\n",
    "\n",
    "\n",
    "fig_sunburst_Region = px.sunburst(df, path=['Region', 'Room', 'Floor_Type'], values='Count', width=750, height=750,\n",
    "                                  title='Floor Types by Region')\n",
    "\n",
    "fig_sunburst_ALL.write_image('Sunburst_All.png')\n",
    "fig_sunburst_Region.write_image('Sunburst_Region.png')"
   ],
   "metadata": {
    "collapsed": false
   }
  },
  {
   "cell_type": "code",
   "execution_count": null,
   "outputs": [],
   "source": [
    "# sum the count of each room type\n",
    "df_sum = df.groupby(['Room','ZPID','Region','Division','State','Home_Type','Home_Price','Sq_ft','Built Year','Floor_Type'])['Count'].sum().reset_index()\n",
    "df_sum = df_sum.pivot_table(index=['Room','ZPID','Region','Division','State','Home_Type','Home_Price','Sq_ft','Built Year'], columns='Floor_Type', values='Count').reset_index()\n",
    "# NaN to 0\n",
    "df_sum = df_sum.fillna(0)\n",
    "df_sum\n",
    "\n"
   ],
   "metadata": {
    "collapsed": false
   }
  },
  {
   "cell_type": "code",
   "execution_count": null,
   "outputs": [],
   "source": [
    "# by Room for all regions\n",
    "df_bedroom = df_sum[df_sum['Room'] == 'Bedroom']\n",
    "df_living = df_sum[df_sum['Room'] == 'Living']\n",
    "df_dining = df_sum[df_sum['Room'] == 'Dining']\n",
    "df_kitchen = df_sum[df_sum['Room'] == 'Kitchen']\n",
    "df_family = df_sum[df_sum['Room'] == 'Family']\n",
    "df_basement = df_sum[df_sum['Room'] == 'Basement']\n",
    "\n",
    "\n"
   ],
   "metadata": {
    "collapsed": false
   }
  },
  {
   "cell_type": "code",
   "execution_count": null,
   "outputs": [],
   "source": [
    "# Bedroom\n",
    "\n",
    "df_bedroom['Bare%'] = (df_bedroom['Bare'] / (df_bedroom['Bare'] + df_bedroom['Carpet'] + df_bedroom['Rug']) * 100).round(1)\n",
    "df_bedroom['Carpet%'] = (df_bedroom['Carpet'] / (df_bedroom['Bare'] + df_bedroom['Carpet'] + df_bedroom['Rug']) * 100).round(1)\n",
    "df_bedroom['Rug%'] = (df_bedroom['Rug'] / (df_bedroom['Bare'] + df_bedroom['Carpet'] + df_bedroom['Rug']) * 100).round(1)\n",
    "df_bedroom.head()"
   ],
   "metadata": {
    "collapsed": false
   }
  },
  {
   "cell_type": "code",
   "execution_count": null,
   "outputs": [],
   "source": [
    "df_bedroom_division = df_bedroom.groupby(['Room','Region','Division','State'])[['Bare','Carpet','Rug']].sum().reset_index()\n",
    "df_bedroom_division['Bare%'] = (df_bedroom_division['Bare'] / (df_bedroom_division['Bare'] + df_bedroom_division['Carpet'] + df_bedroom_division['Rug']) * 100).round(1)\n",
    "df_bedroom_division['Carpet%'] = (df_bedroom_division['Carpet'] / (df_bedroom_division['Bare'] + df_bedroom_division['Carpet'] + df_bedroom_division['Rug']) * 100).round(1)\n",
    "df_bedroom_division['Rug%'] = (df_bedroom_division['Rug'] / (df_bedroom_division['Bare'] + df_bedroom_division['Carpet'] + df_bedroom_division['Rug']) * 100).round(1)\n",
    "df_bedroom_division.head()\n",
    "# two decimal places\n",
    "\n",
    "\n"
   ],
   "metadata": {
    "collapsed": false
   }
  },
  {
   "cell_type": "code",
   "execution_count": null,
   "outputs": [],
   "source": [
    "fig_map_division_carpet = px.choropleth(df_bedroom_division, color=\"Carpet%\",locations=\"State\", locationmode=\"USA-states\", scope=\"usa\", color_continuous_scale=px.colors.sequential.YlOrRd, labels={'color':'Percentage of Bedrooms with Carpet'}, title='Carpeted Bedrooms % by State')\n",
    "                        # color_discrete_map={'Northeast':'#EF553B','South':'#AB63FA','Midwest':'#636EFA','West':'#00CC96'})\n",
    "# fig_map_All update_layout(color\n",
    "fig_map_division_carpet.update_layout(margin={\"r\":0,\"t\":50,\"l\":0,\"b\":0}, title_x=0.5)\n",
    "# fig_map_division_carpet.add_scattergeo(\n",
    "#     locations=df_bedroom_division['State'],\n",
    "#     locationmode=\"USA-states\",\n",
    "#     text=df_bedroom_division['Carpet%'],\n",
    "#     mode='text',\n",
    "#     # textfont=dict(\n",
    "#     #     family=\"Avenir Light\",\n",
    "#     #     size=10,\n",
    "#     #\n",
    "#     # ),\n",
    "# )\n",
    "fig_map_division_carpet.show()\n",
    "fig_map_division_carpet.write_image('Map - Carpeted Bedrooms Percent by State.png')"
   ],
   "metadata": {
    "collapsed": false
   }
  },
  {
   "cell_type": "code",
   "execution_count": null,
   "outputs": [],
   "source": [
    "# Living Room\n",
    "\n",
    "df_living['Bare%'] = (\n",
    "            df_living['Bare'] / (df_living['Bare'] + df_living['Carpet'] + df_living['Rug']) * 100).round(1)\n",
    "df_living['Carpet%'] = (\n",
    "            df_living['Carpet'] / (df_living['Bare'] + df_living['Carpet'] + df_living['Rug']) * 100).round(1)\n",
    "df_living['Rug%'] = (df_living['Rug'] / (df_living['Bare'] + df_living['Carpet'] + df_living['Rug']) * 100).round(\n",
    "    1)\n",
    "\n",
    "df_living_division = df_living.groupby(['Room', 'Region', 'Division', 'State'])[['Bare', 'Carpet', 'Rug']].sum().reset_index()\n",
    "df_living_division['Bare%'] = (df_living_division['Bare'] / (\n",
    "            df_living_division['Bare'] + df_living_division['Carpet'] + df_living_division['Rug']) * 100).round(1)\n",
    "df_living_division['Carpet%'] = (df_living_division['Carpet'] / (\n",
    "            df_living_division['Bare'] + df_living_division['Carpet'] + df_living_division['Rug']) * 100).round(1)\n",
    "df_living_division['Rug%'] = (df_living_division['Rug'] / (\n",
    "            df_living_division['Bare'] + df_living_division['Carpet'] + df_living_division['Rug']) * 100).round(1)\n",
    "df_living_division\n",
    "# two decimal places\n",
    "\n",
    "\n"
   ],
   "metadata": {
    "collapsed": false
   }
  },
  {
   "cell_type": "code",
   "execution_count": null,
   "outputs": [],
   "source": [
    "fig_map_division_carpet = px.choropleth(df_living_division, color=\"Carpet%\",locations=\"State\", locationmode=\"USA-states\", scope=\"usa\", color_continuous_scale=px.colors.sequential.YlOrRd, labels={'color':'Percentage of Bedrooms with Carpet'}, title='Carpeted Living Room % by State')\n",
    "                        # color_discrete_map={'Northeast':'#EF553B','South':'#AB63FA','Midwest':'#636EFA','West':'#00CC96'})\n",
    "# fig_map_All update_layout(color\n",
    "fig_map_division_carpet.update_layout(margin={\"r\":0,\"t\":50,\"l\":0,\"b\":0}, title_x=0.5)\n",
    "# fig_map_division_carpet.add_scattergeo(\n",
    "#     locations=df_living_division['State'],\n",
    "#     locationmode=\"USA-states\",\n",
    "#     text=df_living_division['Carpet%'],\n",
    "#     mode='text',\n",
    "#     # textfont=dict(\n",
    "#     #     family=\"Avenir Light\",\n",
    "#     #     size=10,\n",
    "#     #\n",
    "#     # ),\n",
    "# )\n",
    "fig_map_division_carpet.show()\n",
    "fig_map_division_carpet.write_image('Map - Carpeted Living Rooms Percent by State.png')"
   ],
   "metadata": {
    "collapsed": false
   }
  },
  {
   "cell_type": "code",
   "execution_count": null,
   "outputs": [],
   "source": [
    "# Basement\n",
    "\n",
    "df_basement['Bare%'] = (\n",
    "            df_basement['Bare'] / (df_basement['Bare'] + df_basement['Carpet'] + df_basement['Rug']) * 100).round(1)\n",
    "df_basement['Carpet%'] = (\n",
    "            df_basement['Carpet'] / (df_basement['Bare'] + df_basement['Carpet'] + df_basement['Rug']) * 100).round(1)\n",
    "df_basement['Rug%'] = (df_basement['Rug'] / (df_basement['Bare'] + df_basement['Carpet'] + df_basement['Rug']) * 100).round(\n",
    "    1)\n",
    "\n",
    "df_basement_division = df_basement.groupby(['Room', 'Region', 'Division', 'State'])[['Bare', 'Carpet', 'Rug']].sum().reset_index()\n",
    "df_basement_division['Bare%'] = (df_basement_division['Bare'] / (\n",
    "            df_basement_division['Bare'] + df_basement_division['Carpet'] + df_basement_division['Rug']) * 100).round(1)\n",
    "df_basement_division['Carpet%'] = (df_basement_division['Carpet'] / (\n",
    "            df_basement_division['Bare'] + df_basement_division['Carpet'] + df_basement_division['Rug']) * 100).round(1)\n",
    "df_basement_division['Rug%'] = (df_basement_division['Rug'] / (\n",
    "            df_basement_division['Bare'] + df_basement_division['Carpet'] + df_basement_division['Rug']) * 100).round(1)\n",
    "df_basement_division\n",
    "# two decimal places\n",
    "\n",
    "\n"
   ],
   "metadata": {
    "collapsed": false
   }
  },
  {
   "cell_type": "code",
   "execution_count": null,
   "outputs": [],
   "source": [
    "fig_map_division_carpet = px.choropleth(df_basement_division, color=\"Carpet%\",locations=\"State\", locationmode=\"USA-states\", scope=\"usa\", color_continuous_scale=px.colors.sequential.YlOrRd, labels={'color':'Percentage of Bedrooms with Carpet'}, title='Carpeted Basement % by State')\n",
    "                        # color_discrete_map={'Northeast':'#EF553B','South':'#AB63FA','Midwest':'#636EFA','West':'#00CC96'})\n",
    "# fig_map_All update_layout(color\n",
    "fig_map_division_carpet.update_layout(margin={\"r\":0,\"t\":50,\"l\":0,\"b\":0}, title_x=0.5)\n",
    "# fig_map_division_carpet.add_scattergeo(\n",
    "#     locations=df_basement_division['State'],\n",
    "#     locationmode=\"USA-states\",\n",
    "#     text=df_basement_division['Carpet%'],\n",
    "#     mode='text',\n",
    "#     # textfont=dict(\n",
    "#     #     family=\"Avenir Light\",\n",
    "#     #     size=10,\n",
    "#     #\n",
    "#     # ),\n",
    "# )\n",
    "fig_map_division_carpet.show()\n",
    "fig_map_division_carpet.write_image('Map - Carpeted Basement % by State.png')"
   ],
   "metadata": {
    "collapsed": false
   }
  },
  {
   "cell_type": "code",
   "execution_count": null,
   "outputs": [],
   "source": [
    "# Median House Value\n",
    "df_median_house_value = df_sum.groupby(['State'])['Home_Price'].median().reset_index()\n",
    "df_median_house_value['Home_Price'] = df_median_house_value['Home_Price'].round(0)\n",
    "df_median_house_value.head()\n",
    "\n",
    "\n"
   ],
   "metadata": {
    "collapsed": false
   }
  },
  {
   "cell_type": "code",
   "execution_count": null,
   "outputs": [],
   "source": [
    "fig_map_median_houseprice = px.choropleth(df_median_house_value, color=\"Home_Price\",locations=\"State\", locationmode=\"USA-states\", scope=\"usa\", color_continuous_scale=px.colors.sequential.YlGnBu, labels={'color':'Percentage of Bedrooms with Carpet'}, title='Median House Price by State')\n",
    "                        # color_discrete_map={'Northeast':'#EF553B','South':'#AB63FA','Midwest':'#636EFA','West':'#00CC96'})\n",
    "# fig_map_All update_layout(color\n",
    "fig_map_median_houseprice.update_layout(margin={\"r\":0,\"t\":50,\"l\":0,\"b\":0}, title_x=0.5)\n",
    "# fig_map_median_houseprice.add_scattergeo(\n",
    "#     locations=df_median_house_value['State'],\n",
    "#     locationmode=\"USA-states\",\n",
    "#     text=df_median_house_value['Home_Price'],\n",
    "#     mode='text',\n",
    "#     textfont=dict(\n",
    "#         color='black',\n",
    "#\n",
    "#     ),\n",
    "# )\n",
    "fig_map_median_houseprice.show()\n",
    "fig_map_median_houseprice.write_image('Map - Median House Price by State.png')"
   ],
   "metadata": {
    "collapsed": false
   }
  },
  {
   "cell_type": "code",
   "execution_count": null,
   "outputs": [],
   "source": [
    "# Median House Value\n",
    "df_avg_built_year = df_sum.groupby(['State'])['Built Year'].mean().reset_index()\n",
    "df_avg_built_year['Built Year'] = df_avg_built_year['Built Year'].round(0)\n",
    "df_avg_built_year.head()\n",
    "\n",
    "\n"
   ],
   "metadata": {
    "collapsed": false
   }
  },
  {
   "cell_type": "code",
   "execution_count": null,
   "outputs": [],
   "source": [
    "# select CA, TX, FL, NY, IL, OH, AZ, NJ,MA, WA, MD, GA, MN\n",
    "df_avg_built_year = df_avg_built_year[df_avg_built_year['State'].isin(['CA', 'TX', 'FL', 'NY', 'IL', 'OH', 'AZ', 'NJ', 'MA', 'WA', 'MD', 'GA', 'MN', 'MO', 'PA', 'TN'])]\n",
    "df_avg_built_year"
   ],
   "metadata": {
    "collapsed": false
   }
  },
  {
   "cell_type": "code",
   "execution_count": null,
   "outputs": [],
   "source": [
    "fig_map_built_year = px.choropleth(df_avg_built_year, color=\"Built Year\",locations=\"State\", locationmode=\"USA-states\", scope=\"usa\", color_continuous_scale=px.colors.sequential.RdBu, labels={'color':'Percentage of Bedrooms with Carpet'}, title='Avg. House Built Year by State')\n",
    "                        # color_discrete_map={'Northeast':'#EF553B','South':'#AB63FA','Midwest':'#636EFA','West':'#00CC96'})\n",
    "# fig_map_All update_layout(color\n",
    "fig_map_built_year.update_layout(margin={\"r\":0,\"t\":50,\"l\":0,\"b\":0}, title_x=0.5)\n",
    "fig_map_built_year.add_scattergeo(\n",
    "    locations=df_avg_built_year['State'],\n",
    "    locationmode=\"USA-states\",\n",
    "    text=df_avg_built_year['Built Year'],\n",
    "    mode='text',\n",
    "    textfont=dict(\n",
    "        color='Green',\n",
    "\n",
    "    ),\n",
    ")\n",
    "fig_map_built_year.show()\n",
    "fig_map_built_year.write_image('Map - Avg. Built Year.png')"
   ],
   "metadata": {
    "collapsed": false
   }
  }
 ],
 "metadata": {
  "kernelspec": {
   "display_name": "Python 3",
   "language": "python",
   "name": "python3"
  },
  "language_info": {
   "codemirror_mode": {
    "name": "ipython",
    "version": 2
   },
   "file_extension": ".py",
   "mimetype": "text/x-python",
   "name": "python",
   "nbconvert_exporter": "python",
   "pygments_lexer": "ipython2",
   "version": "2.7.6"
  }
 },
 "nbformat": 4,
 "nbformat_minor": 0
}
